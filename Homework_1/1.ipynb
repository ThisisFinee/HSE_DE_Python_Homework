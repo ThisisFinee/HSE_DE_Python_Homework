{
 "cells": [
  {
   "cell_type": "markdown",
   "id": "96677a9f",
   "metadata": {},
   "source": [
    "## Задание 1"
   ]
  },
  {
   "cell_type": "code",
   "execution_count": 8,
   "id": "933648d9",
   "metadata": {},
   "outputs": [],
   "source": [
    "import json\n",
    "import csv\n",
    "purchases = {}"
   ]
  },
  {
   "cell_type": "code",
   "execution_count": 9,
   "id": "998d13d7",
   "metadata": {},
   "outputs": [],
   "source": [
    "def b_print(dictionary: dict, n: int):\n",
    "    dict_list = list(dictionary.items())[:n]\n",
    "    for key, value in dict_list:\n",
    "        print(f\"{key} '{value}'\")"
   ]
  },
  {
   "cell_type": "code",
   "execution_count": 10,
   "id": "bb0a730c",
   "metadata": {},
   "outputs": [],
   "source": [
    "with open('purchase_log.txt', 'r', encoding='utf-8') as file:\n",
    "    for line in file:\n",
    "        data = json.loads(line)\n",
    "        user_id = data.get('user_id')\n",
    "        category = data.get('category')\n",
    "        \n",
    "        if user_id and category and user_id != 'user_id':\n",
    "            purchases[user_id] = category"
   ]
  },
  {
   "cell_type": "code",
   "execution_count": 11,
   "id": "310199e5",
   "metadata": {},
   "outputs": [
    {
     "name": "stdout",
     "output_type": "stream",
     "text": [
      "1840e0b9d4 'Продукты'\n",
      "4e4f90fcfb 'Электроника'\n",
      "afea8d72fc 'Электроника'\n",
      "373a6055fe 'Бытовая техника'\n",
      "9b2ab046f3 'Электроника'\n",
      "9f39d307c3 'Электроника'\n",
      "44edeffc91 'Продукты'\n",
      "704474fa2d 'Продукты'\n",
      "1de31be403 'Бытовая техника'\n",
      "b71f36a5e4 'Продукты'\n",
      "79843a685a 'Продукты'\n",
      "ff68cee0d6 'Бытовая техника'\n",
      "e8447c40e2 'Досуг'\n",
      "98d290be27 'Электроника'\n",
      "fa0079a5a8 'Досуг'\n",
      "22d2f03a17 'Досуг'\n",
      "3f8e1ccd3f 'Электроника'\n",
      "81a9988b83 'Электроника'\n",
      "65f44a2eb7 'Досуг'\n",
      "5f8fbb0149 'Бытовая техника'\n"
     ]
    }
   ],
   "source": [
    "n = 20\n",
    "b_print(purchases, n)"
   ]
  },
  {
   "cell_type": "markdown",
   "id": "068a4d7b",
   "metadata": {},
   "source": [
    "## Задание 2"
   ]
  },
  {
   "cell_type": "code",
   "execution_count": null,
   "id": "438649d6",
   "metadata": {},
   "outputs": [],
   "source": [
    "def b_file_print(filename: str, n: int):\n",
    "    with open(filename, 'r', newline='', encoding='utf-8') as file:\n",
    "        reader = csv.reader(file)\n",
    "        for i in range(n):\n",
    "            print(','.join(next(reader)))"
   ]
  },
  {
   "cell_type": "code",
   "execution_count": 13,
   "id": "540d56c2",
   "metadata": {},
   "outputs": [],
   "source": [
    "def line_by_line_proc(in_filename: str, out_filename: str, d: dict):\n",
    "    with open(in_filename, 'r', newline='', encoding='utf-8') as infile, \\\n",
    "        open(out_filename, 'w', newline='', encoding='utf-8') as outfile:\n",
    "\n",
    "        reader = csv.reader(infile)\n",
    "        writer = csv.writer(outfile)\n",
    "\n",
    "        header = next(reader)\n",
    "        header.append('category')\n",
    "        writer.writerow(header)\n",
    "\n",
    "        for row in reader:\n",
    "            category = d.get(row[0])\n",
    "            if category:\n",
    "                row.append(category)\n",
    "                writer.writerow(row)"
   ]
  },
  {
   "cell_type": "code",
   "execution_count": 14,
   "id": "acb3bdf3",
   "metadata": {},
   "outputs": [
    {
     "name": "stdout",
     "output_type": "stream",
     "text": [
      "user_id source category\n",
      "1840e0b9d4 other Продукты\n",
      "4e4f90fcfb context Электроника\n",
      "afea8d72fc other Электроника\n",
      "2824221f38 email Продукты\n",
      "373a6055fe other Бытовая техника\n",
      "9b2ab046f3 other Электроника\n",
      "9f39d307c3 context Электроника\n",
      "44edeffc91 context Продукты\n",
      "704474fa2d other Продукты\n",
      "1de31be403 other Бытовая техника\n",
      "5da0dedf13 context Досуг\n",
      "b71f36a5e4 other Продукты\n",
      "79843a685a context Продукты\n",
      "ff68cee0d6 context Бытовая техника\n",
      "e8447c40e2 email Досуг\n",
      "b9ef8fdf47 other Продукты\n",
      "98d290be27 other Электроника\n",
      "3fff459bda other Электроника\n",
      "fa0079a5a8 other Досуг\n"
     ]
    }
   ],
   "source": [
    "n = 20\n",
    "line_by_line_proc('visit_log.csv', 'funnel.csv', purchases)\n",
    "b_file_print('funnel.csv', n)"
   ]
  }
 ],
 "metadata": {
  "kernelspec": {
   "display_name": "myenv",
   "language": "python",
   "name": "myenv"
  },
  "language_info": {
   "codemirror_mode": {
    "name": "ipython",
    "version": 3
   },
   "file_extension": ".py",
   "mimetype": "text/x-python",
   "name": "python",
   "nbconvert_exporter": "python",
   "pygments_lexer": "ipython3",
   "version": "3.11.9"
  }
 },
 "nbformat": 4,
 "nbformat_minor": 5
}
