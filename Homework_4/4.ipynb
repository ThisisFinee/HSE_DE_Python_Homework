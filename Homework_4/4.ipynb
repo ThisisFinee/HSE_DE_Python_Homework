{
 "cells": [
  {
   "cell_type": "markdown",
   "id": "b9f19fb5",
   "metadata": {},
   "source": [
    "## Подготовка"
   ]
  },
  {
   "cell_type": "code",
   "execution_count": 1,
   "id": "b34bd0f5",
   "metadata": {},
   "outputs": [],
   "source": [
    "import re"
   ]
  },
  {
   "cell_type": "markdown",
   "id": "39037974",
   "metadata": {},
   "source": [
    "## Задание 1"
   ]
  },
  {
   "cell_type": "code",
   "execution_count": 2,
   "id": "a8146bf2",
   "metadata": {},
   "outputs": [
    {
     "name": "stdout",
     "output_type": "stream",
     "text": [
      "Номер А222BС валиден. Регион: 96.\n",
      "Номер АБ22ВВ193 не валиден.\n",
      "Номер  не валиден.\n"
     ]
    }
   ],
   "source": [
    "def validate_car_number(car_id):\n",
    "    pattern = r'^([АВЕКМНОРСТУХABEKMHOPCTYX])(\\d{3})([АВЕКМНОРСТУХABEKMHOPCTYX]{2})(\\d{2,3})$'\n",
    "    \n",
    "    match = re.match(pattern, car_id, re.IGNORECASE)\n",
    "    if match:\n",
    "        number = f\"{match.group(1)}{match.group(2)}{match.group(3)}\"\n",
    "        region = match.group(4)\n",
    "        return number.upper(), region\n",
    "    else:\n",
    "        return None, None\n",
    "\n",
    "test_numbers = ['А222BС96', 'АБ22ВВ193', '']\n",
    "\n",
    "for car_id in test_numbers:\n",
    "    number, region = validate_car_number(car_id)\n",
    "    if number:\n",
    "        print(f'Номер {number} валиден. Регион: {region}.')\n",
    "    else:\n",
    "        print(f'Номер {car_id} не валиден.')"
   ]
  },
  {
   "cell_type": "markdown",
   "id": "a5b29f4d",
   "metadata": {},
   "source": [
    "## Задание 2"
   ]
  },
  {
   "cell_type": "code",
   "execution_count": 3,
   "id": "73f894c3",
   "metadata": {},
   "outputs": [
    {
     "name": "stdout",
     "output_type": "stream",
     "text": [
      "Исходная строка:\n",
      "Напишите функцию функцию, которая будет будет будет будет удалять все все все все последовательные повторы слов из из из из заданной строки строки при помощи регулярных выражений\n",
      "\n",
      "Результат:\n",
      "Напишите функцию, которая будет удалять все последовательные повторы слов из заданной строки при помощи регулярных выражений\n"
     ]
    }
   ],
   "source": [
    "def remove_duplicate_words(text):\n",
    "    pattern = r'\\b(\\w+)(?:\\s+\\1\\b)+'\n",
    "    \n",
    "    result = re.sub(pattern, r'\\1', text)\n",
    "    return result\n",
    "\n",
    "some_string = 'Напишите функцию функцию, которая будет будет будет будет удалять все все все все последовательные повторы слов из из из из заданной строки строки при помощи регулярных выражений'\n",
    "\n",
    "result = remove_duplicate_words(some_string)\n",
    "print(\"Исходная строка:\")\n",
    "print(some_string)\n",
    "print(\"\\nРезультат:\")\n",
    "print(result)"
   ]
  }
 ],
 "metadata": {
  "kernelspec": {
   "display_name": ".venv",
   "language": "python",
   "name": ".venv"
  },
  "language_info": {
   "codemirror_mode": {
    "name": "ipython",
    "version": 3
   },
   "file_extension": ".py",
   "mimetype": "text/x-python",
   "name": "python",
   "nbconvert_exporter": "python",
   "pygments_lexer": "ipython3",
   "version": "3.11.9"
  }
 },
 "nbformat": 4,
 "nbformat_minor": 5
}
