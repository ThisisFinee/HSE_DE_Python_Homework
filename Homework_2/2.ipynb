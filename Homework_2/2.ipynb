{
 "cells": [
  {
   "cell_type": "markdown",
   "id": "10d2fd3a",
   "metadata": {},
   "source": [
    "## Задание 1"
   ]
  },
  {
   "cell_type": "code",
   "execution_count": null,
   "id": "a11667a1",
   "metadata": {},
   "outputs": [
    {
     "name": "stdout",
     "output_type": "stream",
     "text": [
      "2002-10-02 00:00:00\n",
      "2013-10-11 00:00:00\n",
      "1977-08-18 00:00:00\n"
     ]
    }
   ],
   "source": [
    "from datetime import datetime\n",
    "\n",
    "dates = [\n",
    "    \"Wednesday, October 2, 2002\",\n",
    "    \"Friday, 11.10.13\",\n",
    "    \"Thursday, 18 August 1977\"\n",
    "]\n",
    "\n",
    "formats = [\n",
    "    \"%A, %B %d, %Y\",\n",
    "    \"%A, %d.%m.%y\",\n",
    "    \"%A, %d %B %Y\"\n",
    "]\n",
    "\n",
    "for date_str, fmt in zip(dates, formats):\n",
    "    dt = datetime.strptime(date_str, fmt)\n",
    "    print(dt)"
   ]
  },
  {
   "cell_type": "markdown",
   "id": "863c8337",
   "metadata": {},
   "source": [
    "## Задание 2"
   ]
  },
  {
   "cell_type": "code",
   "execution_count": 5,
   "id": "bc73e898",
   "metadata": {},
   "outputs": [
    {
     "name": "stdout",
     "output_type": "stream",
     "text": [
      "['2022-01-01', '2022-01-02', '2022-01-03']\n",
      "['2022-01-01']\n",
      "[]\n",
      "[]\n",
      "[]\n",
      "[]\n"
     ]
    }
   ],
   "source": [
    "from datetime import datetime, timedelta\n",
    "\n",
    "def date_range(start_date, end_date):\n",
    "    try:\n",
    "        start = datetime.strptime(start_date, \"%Y-%m-%d\")\n",
    "        end = datetime.strptime(end_date, \"%Y-%m-%d\")\n",
    "        \n",
    "        if start > end:\n",
    "            return []\n",
    "        \n",
    "        dates = []\n",
    "        current = start\n",
    "        while current <= end:\n",
    "            dates.append(current.strftime(\"%Y-%m-%d\"))\n",
    "            current += timedelta(days=1)\n",
    "        \n",
    "        return dates\n",
    "    except ValueError:\n",
    "        return []\n",
    "\n",
    "print(date_range('2022-01-01', '2022-01-03'))\n",
    "print(date_range('2022-01-01', '2022-01-01'))\n",
    "print(date_range('2022-01-03', '2022-01-01'))\n",
    "print(date_range('2022-02-30', '2022-02-31'))\n",
    "print(date_range('30/02/2022', '31/02/2022'))\n",
    "print(date_range('error', '2022-01-03'))"
   ]
  }
 ],
 "metadata": {
  "kernelspec": {
   "display_name": "myenv",
   "language": "python",
   "name": "myenv"
  },
  "language_info": {
   "codemirror_mode": {
    "name": "ipython",
    "version": 3
   },
   "file_extension": ".py",
   "mimetype": "text/x-python",
   "name": "python",
   "nbconvert_exporter": "python",
   "pygments_lexer": "ipython3",
   "version": "3.11.9"
  }
 },
 "nbformat": 4,
 "nbformat_minor": 5
}
